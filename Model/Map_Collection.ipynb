{
 "cells": [
  {
   "cell_type": "code",
   "execution_count": 2,
   "metadata": {},
   "outputs": [
    {
     "output_type": "error",
     "ename": "ModuleNotFoundError",
     "evalue": "No module named 'folium'",
     "traceback": [
      "\u001b[1;31m---------------------------------------------------------------------------\u001b[0m",
      "\u001b[1;31mModuleNotFoundError\u001b[0m                       Traceback (most recent call last)",
      "\u001b[1;32m<ipython-input-2-4781236c77b2>\u001b[0m in \u001b[0;36m<module>\u001b[1;34m\u001b[0m\n\u001b[0;32m      2\u001b[0m \u001b[1;32mimport\u001b[0m \u001b[0mcsv\u001b[0m\u001b[1;33m\u001b[0m\u001b[1;33m\u001b[0m\u001b[0m\n\u001b[0;32m      3\u001b[0m \u001b[1;32mimport\u001b[0m \u001b[0mpandas\u001b[0m \u001b[1;32mas\u001b[0m \u001b[0mpd\u001b[0m\u001b[1;33m\u001b[0m\u001b[1;33m\u001b[0m\u001b[0m\n\u001b[1;32m----> 4\u001b[1;33m \u001b[1;32mimport\u001b[0m \u001b[0mfolium\u001b[0m\u001b[1;33m\u001b[0m\u001b[1;33m\u001b[0m\u001b[0m\n\u001b[0m\u001b[0;32m      5\u001b[0m \u001b[1;32mfrom\u001b[0m \u001b[0mfolium\u001b[0m \u001b[1;32mimport\u001b[0m \u001b[0mplugins\u001b[0m\u001b[1;33m\u001b[0m\u001b[1;33m\u001b[0m\u001b[0m\n\u001b[0;32m      6\u001b[0m \u001b[1;32mfrom\u001b[0m \u001b[0mfolium\u001b[0m\u001b[1;33m.\u001b[0m\u001b[0mplugins\u001b[0m \u001b[1;32mimport\u001b[0m \u001b[0mHeatMap\u001b[0m\u001b[1;33m\u001b[0m\u001b[1;33m\u001b[0m\u001b[0m\n",
      "\u001b[1;31mModuleNotFoundError\u001b[0m: No module named 'folium'"
     ]
    }
   ],
   "source": [
    "#please ensure to run all the cells in order to have the maps fully function!\n",
    "import csv\n",
    "import pandas as pd\n",
    "import folium\n",
    "from folium import plugins\n",
    "from folium.plugins import HeatMap\n",
    "import bqplot\n",
    "from bqplot import pyplot as plt\n",
    "from bqplot import Lines, Figure, LinearScale, DateScale, Axis, Scale, LogScale\n",
    "from ipyleaflet import Map, GeoJSON, WidgetControl, SearchControl, LayerGroup, AwesomeIcon, Marker, Circle, FullScreenControl, LayersControl, basemaps\n",
    "import os\n",
    "import json\n",
    "from ipywidgets import interact, interact_manual"
   ]
  },
  {
   "cell_type": "code",
   "execution_count": 121,
   "metadata": {},
   "outputs": [],
   "source": [
    "def CSVtoLIST(file):\n",
    "    dataList = []\n",
    "    with open(file, newline='') as dataFile:\n",
    "        csvReader = csv.reader(dataFile)\n",
    "        next(csvReader, None)\n",
    "        for line in csvReader:\n",
    "            if line[0] == 'NA' or line[1] == 'NA':\n",
    "                continue\n",
    "            else:\n",
    "                tempList = []\n",
    "                tempList.insert(len(tempList), float(line[0]))\n",
    "                tempList.insert(len(tempList), float(line[1]))\n",
    "                tempList.insert(len(tempList), line[2])\n",
    "                tempList.insert(len(tempList), line[3])\n",
    "                tempList.insert(len(tempList), line[4])\n",
    "                tempList.insert(len(tempList), line[5])\n",
    "                dataList.insert(len(dataList), tempList)\n",
    "    return dataList\n",
    "\n",
    "def CSVtoListPrice(file):\n",
    "    listWithPrices = []\n",
    "    with open(file, newline='') as dataFile:\n",
    "        csvReader = csv.reader(dataFile)\n",
    "        next(csvReader, None)\n",
    "        for line in csvReader:\n",
    "            if line[0] == 'NA' or line[1] == 'NA':\n",
    "                continue\n",
    "            else:\n",
    "                tempList = []\n",
    "                tempList.insert(len(tempList), float(line[0]))\n",
    "                tempList.insert(len(tempList), float(line[1]))\n",
    "                if line[2] == 'NA':\n",
    "                    tempList.insert(len(tempList), float(-1))\n",
    "                else:\n",
    "                    tempList.insert(len(tempList), float(line[2]))\n",
    "                tempList.insert(len(tempList), line[3])\n",
    "                tempList.insert(len(tempList), line[4])\n",
    "                tempList.insert(len(tempList), line[5])\n",
    "                listWithPrices.insert(len(listWithPrices), tempList)\n",
    "    return listWithPrices\n",
    "\n",
    "def listToDataFrame(dataList):\n",
    "    dataDict = {'Lat': [], 'Lon': [], 'Infl_Price': [], 'Date': [], 'Neighborhood': [], 'DT': [], 'Year': []}\n",
    "    for data in dataList:\n",
    "        dataDict[\"Lat\"].insert(len(dataDict[\"Lat\"]), data[0])\n",
    "        dataDict[\"Lon\"].insert(len(dataDict[\"Lon\"]), data[1])\n",
    "        dataDict[\"Infl_Price\"].insert(len(dataDict[\"Infl_Price\"]), data[2])\n",
    "        dataDict[\"Date\"].insert(len(dataDict[\"Date\"]), data[3])\n",
    "        dataDict[\"Neighborhood\"].insert(len(dataDict[\"Neighborhood\"]), data[4])\n",
    "        dataDict[\"DT\"].insert(len(dataDict[\"DT\"]), data[5])\n",
    "        dataDict['Year'].insert(len(dataDict['Year']), int(data[3][0:4]))\n",
    "    return dataDict"
   ]
  },
  {
   "cell_type": "code",
   "execution_count": 124,
   "metadata": {},
   "outputs": [
    {
     "name": "stderr",
     "output_type": "stream",
     "text": [
      "C:\\Users\\KevinBrito\\Anaconda3\\lib\\site-packages\\ipykernel_launcher.py:13: UserWarning: Boolean Series key will be reindexed to match DataFrame index.\n",
      "  del sys.path[0]\n"
     ]
    }
   ],
   "source": [
    "#create dataframe for home price figure\n",
    "data = listToDataFrame(CSVtoLIST('Cleaned_Housing_Data.csv'))\n",
    "df = pd.DataFrame(data=data)\n",
    "priceData = listToDataFrame(CSVtoListPrice('Cleaned_Housing_Data.csv'))\n",
    "priceDF = pd.DataFrame(data=priceData)\n",
    "\n",
    "#create dataframe for fruitbelt figure priming\n",
    "chartData = priceDF[(priceDF['Infl_Price'] > 1) & (priceDF['Year'] < 2021)]\n",
    "priceData = chartData.groupby(['Neighborhood', 'Year']).Infl_Price.mean().reset_index()\n",
    "priceDataFB = priceData[(priceData['Neighborhood'] == 'Fruit Belt') & (priceData['Year'] < 2021)]\n",
    "\n",
    "#create dataframe for foreclosures figure\n",
    "foreclosures = chartData[(chartData['DT'] == 'D1D') & (df['Year'] <= 2020)]\n",
    "foreclosures = foreclosures.groupby(['Neighborhood', 'Year']).size().reset_index()\n",
    "foreclosures = foreclosures.rename(columns={0: 'Foreclosures'})\n",
    "foreclosuresFB = foreclosures[(foreclosures['Neighborhood'] == 'Fruit Belt')]\n",
    "\n",
    "#create dataframe for onlick function for prediction data\n",
    "predictionData = pd.read_csv('prediction_Data.csv')\n",
    "predictionDataDict = []\n",
    "for row in predictionData.itertuples():\n",
    "    tempDict = {'SBL': row[1],\n",
    "                'ProbSell': row[2],\n",
    "                'Neighborhood': row[3],\n",
    "                'Lat': row[8],\n",
    "                'Lon': row[9],\n",
    "                'Bought': row[10],\n",
    "                'ProbBought': row[11],\n",
    "                'ProbNotBought': row[12]\n",
    "    }\n",
    "    predictionDataDict.insert(len(tempDict), tempDict)"
   ]
  },
  {
   "cell_type": "code",
   "execution_count": 125,
   "metadata": {},
   "outputs": [
    {
     "data": {
      "application/vnd.jupyter.widget-view+json": {
       "model_id": "9fb0258868ad48d791ece746aac3bf81",
       "version_major": 2,
       "version_minor": 0
      },
      "text/plain": [
       "Figure(animation_duration=500, axes=[Axis(label='Year', num_ticks=7, scale=DateScale(max=datetime.datetime(202…"
      ]
     },
     "metadata": {},
     "output_type": "display_data"
    }
   ],
   "source": [
    "#Creation of average home price figure/plot\n",
    "date_start = pd.datetime(1985, 12, 31)\n",
    "date_end = pd.datetime(2020, 12, 31)\n",
    "\n",
    "date_scale = DateScale(min=date_start, max=date_end)\n",
    "date_data = pd.date_range(start=date_start, end=date_end, freq='A', normalize=True)\n",
    "\n",
    "x_scale = LinearScale()\n",
    "\n",
    "lines = Lines(x=priceDataFB.Year, y=priceDataFB.Infl_Price, scales={'x': LinearScale(), 'y': x_scale})\n",
    "ax_x = Axis(label='Year', scale=date_scale, num_ticks=7, tick_format='%Y')\n",
    "ax_y = Axis(label='Price', scale=x_scale, orientation='vertical', side='left', label_offset='50px')\n",
    "averageHomePricePlot = Figure(axes=[ax_x, ax_y], title='Average Home Price in Fruit Belt', marks=[lines], animation_duration=500,\n",
    "                layout={'max_height': '250px', 'max_width': '700px'})\n",
    "\n",
    "averageHomePricePlot"
   ]
  },
  {
   "cell_type": "code",
   "execution_count": 128,
   "metadata": {},
   "outputs": [
    {
     "data": {
      "application/vnd.jupyter.widget-view+json": {
       "model_id": "3ebbf38f9aa049e2bc499336df7bbe62",
       "version_major": 2,
       "version_minor": 0
      },
      "text/plain": [
       "Figure(animation_duration=500, axes=[Axis(label='Year', num_ticks=7, scale=DateScale(max=datetime.datetime(201…"
      ]
     },
     "metadata": {},
     "output_type": "display_data"
    }
   ],
   "source": [
    "#Find a start date and end date\n",
    "date_start = pd.datetime(1994, 12, 31)\n",
    "date_end = pd.datetime(2011, 12, 31)\n",
    "\n",
    "#Find a scale for the data\n",
    "date_scale = DateScale(min=date_start, max=date_end)\n",
    "date_data = pd.date_range(start=date_start, end=date_end, freq='A', normalize=True)\n",
    "\n",
    "x_scale = LinearScale()\n",
    "foreclosureLines = Lines(x=foreclosuresFB.Year, y=foreclosuresFB.Foreclosures, scales={'x': LinearScale(), 'y': x_scale})\n",
    "foreclosureAx_x = Axis(label='Year', scale=date_scale, num_ticks=7, tick_format='%Y')\n",
    "foreclosureAx_y = Axis(label='Number of Foreclosures', scale=x_scale, orientation='vertical', side='left')\n",
    "foreclosurePlot = Figure(axes=[foreclosureAx_x, foreclosureAx_y], title='Number of Foreclosures in Fruit Belt', marks=[foreclosureLines], animation_duration=500,\n",
    "                layout={'max_height': '250px', 'max_width': '700px'})\n",
    "\n",
    "foreclosurePlot"
   ]
  },
  {
   "cell_type": "code",
   "execution_count": 129,
   "metadata": {},
   "outputs": [],
   "source": [
    "def update_homePrice(neighborhood_name, data):\n",
    "    lines.y = data[(data['Neighborhood'] == neighborhood_name) & (data['Year'] < 2021)].Infl_Price\n",
    "    ax_y.label = 'Price'\n",
    "    averageHomePricePlot.title = \"Average Home Price in \" + neighborhood_name\n",
    "\n",
    "update_homePrice('Allentown', priceData)\n",
    "\n",
    "def update_foreclosures(neighborhood_name, data):\n",
    "    foreclosureLines.y = data[(data['Neighborhood'] == neighborhood_name)].Foreclosures\n",
    "    foreclosureLines.x = data[(data['Neighborhood'] == neighborhood_name)].Year\n",
    "    foreclosureAx_y = \"Foreclosures\"\n",
    "    foreclosurePlot.title = \"Foreclosures in \" + neighborhood_name\n",
    "\n",
    "update_foreclosures('Allentown', foreclosures)"
   ]
  },
  {
   "cell_type": "code",
   "execution_count": 130,
   "metadata": {
    "scrolled": false
   },
   "outputs": [
    {
     "data": {
      "application/vnd.jupyter.widget-view+json": {
       "model_id": "3917f1923b06442586917435ca375ca5",
       "version_major": 2,
       "version_minor": 0
      },
      "text/plain": [
       "Map(center=[42.88023, -78.878738], controls=(ZoomControl(options=['position', 'zoom_in_text', 'zoom_in_title',…"
      ]
     },
     "metadata": {},
     "output_type": "display_data"
    }
   ],
   "source": [
    "#please use this cell to demonstrate on hover and on click effects!\n",
    "center = [42.880230, -78.878738]\n",
    "dynamicMap = Map(center=center, zoom=11)\n",
    "\n",
    "marker = Marker(icon=AwesomeIcon(name=\"check\", marker_color='green', icon_color='darkgreen'))\n",
    "\n",
    "search = SearchControl(position=\"topright\", \n",
    "                       url='https://nominatim.openstreetmap.org/search?format=json&q={s}', \n",
    "                       zoom=5,\n",
    "                       property_name='display_name',\n",
    "                       marker=marker\n",
    "                      )\n",
    "\n",
    "dynamicMap.add_control(search)\n",
    "\n",
    "widget_control1 = WidgetControl(widget=averageHomePricePlot, position='bottomleft')\n",
    "\n",
    "dynamicMap.add_control(widget_control1)\n",
    "\n",
    "with open('Neighborhoods.geojson') as f:\n",
    "    neighborhoods = json.load(f)\n",
    "    \n",
    "geo = GeoJSON(data=neighborhoods, style={'fillColor': 'orange', 'weight': 0.5}, hover_style={'fillColor': '#1f77b4'}, name='Neighborhoods')\n",
    "dynamicMap.add_layer(geo)\n",
    "\n",
    "\n",
    "control = LayersControl(position='bottomright')\n",
    "\n",
    "def onHoverHomePrice(event, feature, **kwargs):\n",
    "    neighborhood = feature['properties']['nbhdname']\n",
    "    update_homePrice(neighborhood, priceData)\n",
    "    \n",
    "def onHoverForeclosures(event, feature, **kwargs):\n",
    "    neighborhood = feature['properties']['nbhdname']\n",
    "    update_foreclosures(neighborhood, foreclosures)\n",
    "            \n",
    "def on_click(event, feature, **kwargs):\n",
    "    neighborhood = feature['properties']['nbhdname']\n",
    "    for index in range(0, len(predictionDataDict)):\n",
    "        if predictionDataDict[index]['Neighborhood'] == neighborhood:\n",
    "            circle = Circle()\n",
    "            circle.color = \"blue\"\n",
    "            circle.fill_color = \"yellow\"\n",
    "            circle.location = (predictionDataDict[index]['Lat'], predictionDataDict[index]['Lon'])\n",
    "            circle.radius = 10\n",
    "            if predictionDataDict[index]['Bought'] == 1:\n",
    "                circle.color = \"green\"\n",
    "            else:\n",
    "                circle.color = \"red\"\n",
    "            if predictionDataDict[index]['ProbBought'] >= 0.5:\n",
    "                circle.fill_color = \"blue\"\n",
    "            else:\n",
    "                circle.fill_color = \"orange\"\n",
    "            basicMapGeoData.add_layer(circle)\n",
    "            \n",
    "            \n",
    "dynamicMap.add_control(FullScreenControl())\n",
    "dynamicMap.add_control(control)\n",
    "\n",
    "                \n",
    "geo.on_hover(onHoverHomePrice)\n",
    "geo.on_click(on_click)\n",
    "dynamicMap"
   ]
  },
  {
   "cell_type": "code",
   "execution_count": 1,
   "metadata": {
    "scrolled": false
   },
   "outputs": [
    {
     "output_type": "error",
     "ename": "NameError",
     "evalue": "name 'json' is not defined",
     "traceback": [
      "\u001b[1;31m---------------------------------------------------------------------------\u001b[0m",
      "\u001b[1;31mNameError\u001b[0m                                 Traceback (most recent call last)",
      "\u001b[1;32m<ipython-input-1-08555ad50472>\u001b[0m in \u001b[0;36m<module>\u001b[1;34m\u001b[0m\n\u001b[0;32m      1\u001b[0m \u001b[1;31m#please use this cell to demonstrate example control of\u001b[0m\u001b[1;33m\u001b[0m\u001b[1;33m\u001b[0m\u001b[1;33m\u001b[0m\u001b[0m\n\u001b[0;32m      2\u001b[0m \u001b[1;32mwith\u001b[0m \u001b[0mopen\u001b[0m\u001b[1;33m(\u001b[0m\u001b[1;34m'Neighborhoods.geojson'\u001b[0m\u001b[1;33m)\u001b[0m \u001b[1;32mas\u001b[0m \u001b[0mf\u001b[0m\u001b[1;33m:\u001b[0m\u001b[1;33m\u001b[0m\u001b[1;33m\u001b[0m\u001b[0m\n\u001b[1;32m----> 3\u001b[1;33m     \u001b[0mneighborhoods\u001b[0m \u001b[1;33m=\u001b[0m \u001b[0mjson\u001b[0m\u001b[1;33m.\u001b[0m\u001b[0mload\u001b[0m\u001b[1;33m(\u001b[0m\u001b[0mf\u001b[0m\u001b[1;33m)\u001b[0m\u001b[1;33m\u001b[0m\u001b[1;33m\u001b[0m\u001b[0m\n\u001b[0m\u001b[0;32m      4\u001b[0m \u001b[1;33m\u001b[0m\u001b[0m\n\u001b[0;32m      5\u001b[0m \u001b[0mbasicMap\u001b[0m \u001b[1;33m=\u001b[0m \u001b[0mMap\u001b[0m\u001b[1;33m(\u001b[0m\u001b[0mcenter\u001b[0m \u001b[1;33m=\u001b[0m \u001b[1;33m[\u001b[0m\u001b[1;36m42.880230\u001b[0m\u001b[1;33m,\u001b[0m \u001b[1;33m-\u001b[0m\u001b[1;36m78.878738\u001b[0m\u001b[1;33m]\u001b[0m\u001b[1;33m,\u001b[0m \u001b[0mzoom\u001b[0m \u001b[1;33m=\u001b[0m \u001b[1;36m11\u001b[0m\u001b[1;33m)\u001b[0m\u001b[1;33m\u001b[0m\u001b[1;33m\u001b[0m\u001b[0m\n",
      "\u001b[1;31mNameError\u001b[0m: name 'json' is not defined"
     ]
    }
   ],
   "source": [
    "#please use this cell to demonstrate example control of \n",
    "with open('Neighborhoods.geojson') as f:\n",
    "    neighborhoods = json.load(f)\n",
    "\n",
    "basicMap = Map(center = [42.880230, -78.878738], zoom = 11)\n",
    "background = basemaps.OpenStreetMap.Mapnik\n",
    "basicMap.add_control(FullScreenControl())\n",
    "basicMapGeoData = GeoJSON(data=neighborhoods, style={'fillColor': 'orange', 'weight': 0.5}, hover_style={'fillColor': '#1f77b4'}, name='Neighborhoods')\n",
    "layers = []\n",
    "widgets = []\n",
    "plotDict = {'Average Home Price': averageHomePricePlot, 'Foreclosure': foreclosurePlot}\n",
    "dataDict = {'Average Home Price': priceData, 'Foreclosure': foreclosures}\n",
    "\n",
    "@interact\n",
    "def changeMap(Maps=['None','Basic Map', 'Clear']):\n",
    "    if Maps == 'Clear':\n",
    "        if layers != []:\n",
    "            basicMap.clear_layers()\n",
    "            layers.clear()\n",
    "        basicMap.add_layer(background)\n",
    "        layers.append('Background')\n",
    "    elif Maps == 'Basic Map':\n",
    "        if 'Geo' in layers:\n",
    "            basicMap.remove_layer(basicMapGeoData)\n",
    "        basicMap.add_layer(basicMapGeoData)\n",
    "        layers.append('Geo')\n",
    "        \n",
    "@interact\n",
    "def changeFigure(Figures=['None', 'Average Home Price', 'Foreclosure', 'Clear']):\n",
    "    global plotWidget\n",
    "    if Figures != 'Clear' and Figures != 'None':\n",
    "        if 'Geo' in layers:\n",
    "            if len(widgets) == 0:\n",
    "                plotWidget = WidgetControl(widget=plotDict[Figures], position='bottomleft', max_width=700, max_height=700)\n",
    "                basicMap.add_control(plotWidget)\n",
    "                widgets.append(plotDict[Figures])\n",
    "    elif Figures == 'Clear':\n",
    "        basicMap.remove_control(plotWidget)\n",
    "        widgets.clear()\n",
    "    if Figures == 'Average Home Price':\n",
    "                    basicMapGeoData.on_hover(onHoverHomePrice)\n",
    "    if Figures == 'Foreclosure':\n",
    "                    basicMapGeoData.on_hover(onHoverForeclosures)\n",
    "\n",
    "@interact            \n",
    "def clickShow(Effects=['None', 'Prediction Data', 'Clear']):\n",
    "        if 'Geo' in layers:\n",
    "            if Effects == 'Prediction Data':\n",
    "                basicMapGeoData.on_click(on_click)\n",
    "        \n",
    "            \n",
    "basicMap"
   ]
  },
  {
   "cell_type": "code",
   "execution_count": null,
   "metadata": {},
   "outputs": [],
   "source": []
  }
 ],
 "metadata": {
  "kernelspec": {
   "display_name": "Python 3",
   "language": "python",
   "name": "python3"
  },
  "language_info": {
   "codemirror_mode": {
    "name": "ipython",
    "version": 3
   },
   "file_extension": ".py",
   "mimetype": "text/x-python",
   "name": "python",
   "nbconvert_exporter": "python",
   "pygments_lexer": "ipython3",
   "version": "3.8.3-final"
  }
 },
 "nbformat": 4,
 "nbformat_minor": 2
}