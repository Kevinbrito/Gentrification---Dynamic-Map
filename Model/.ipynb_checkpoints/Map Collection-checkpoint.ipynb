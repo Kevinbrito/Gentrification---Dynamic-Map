{
 "cells": [
  {
   "cell_type": "code",
   "execution_count": 1,
   "metadata": {},
   "outputs": [],
   "source": [
    "import csv\n",
    "import pandas as pd\n",
    "import folium\n",
    "from folium import plugins\n",
    "from folium.plugins import HeatMap\n",
    "import bqplot\n",
    "from bqplot import pyplot as plt\n",
    "from bqplot import Lines, Figure, LinearScale, DateScale, Axis, Scale, LogScale\n",
    "from ipyleaflet import Map, GeoJSON, WidgetControl, SearchControl, LayerGroup, AwesomeIcon, Marker, Circle, FullScreenControl, LayersControl, basemaps\n",
    "import os\n",
    "import json\n",
    "from ipywidgets import interact, interact_manual"
   ]
  },
  {
   "cell_type": "code",
   "execution_count": 2,
   "metadata": {},
   "outputs": [],
   "source": [
    "def CSVtoLIST(file):\n",
    "    dataList = []\n",
    "    with open(file, newline='') as dataFile:\n",
    "        csvReader = csv.reader(dataFile)\n",
    "        next(csvReader, None)\n",
    "        for line in csvReader:\n",
    "            if line[0] == 'NA' or line[1] == 'NA':\n",
    "                continue\n",
    "            else:\n",
    "                tempList = []\n",
    "                tempList.insert(len(tempList), float(line[0]))\n",
    "                tempList.insert(len(tempList), float(line[1]))\n",
    "                tempList.insert(len(tempList), line[2])\n",
    "                tempList.insert(len(tempList), line[3])\n",
    "                tempList.insert(len(tempList), line[4])\n",
    "                tempList.insert(len(tempList), line[5])\n",
    "                dataList.insert(len(dataList), tempList)\n",
    "    return dataList\n",
    "\n",
    "def CSVtoListPrice(file):\n",
    "    listWithPrices = []\n",
    "    with open(file, newline='') as dataFile:\n",
    "        csvReader = csv.reader(dataFile)\n",
    "        next(csvReader, None)\n",
    "        for line in csvReader:\n",
    "            if line[0] == 'NA' or line[1] == 'NA':\n",
    "                continue\n",
    "            else:\n",
    "                tempList = []\n",
    "                tempList.insert(len(tempList), float(line[0]))\n",
    "                tempList.insert(len(tempList), float(line[1]))\n",
    "                if line[2] == 'NA':\n",
    "                    tempList.insert(len(tempList), float(-1))\n",
    "                else:\n",
    "                    tempList.insert(len(tempList), float(line[2]))\n",
    "                tempList.insert(len(tempList), line[3])\n",
    "                tempList.insert(len(tempList), line[4])\n",
    "                tempList.insert(len(tempList), line[5])\n",
    "                listWithPrices.insert(len(listWithPrices), tempList)\n",
    "    return listWithPrices\n",
    "\n",
    "def listToDataFrame(dataList):\n",
    "    dataDict = {'Lat': [], 'Lon': [], 'Infl_Price': [], 'Date': [], 'Neighborhood': [], 'DT': [], 'Year': []}\n",
    "    for data in dataList:\n",
    "        dataDict[\"Lat\"].insert(len(dataDict[\"Lat\"]), data[0])\n",
    "        dataDict[\"Lon\"].insert(len(dataDict[\"Lon\"]), data[1])\n",
    "        dataDict[\"Infl_Price\"].insert(len(dataDict[\"Infl_Price\"]), data[2])\n",
    "        dataDict[\"Date\"].insert(len(dataDict[\"Date\"]), data[3])\n",
    "        dataDict[\"Neighborhood\"].insert(len(dataDict[\"Neighborhood\"]), data[4])\n",
    "        dataDict[\"DT\"].insert(len(dataDict[\"DT\"]), data[5])\n",
    "        dataDict['Year'].insert(len(dataDict['Year']), int(data[3][0:4]))\n",
    "    return dataDict"
   ]
  },
  {
   "cell_type": "code",
   "execution_count": 3,
   "metadata": {},
   "outputs": [],
   "source": [
    "data = listToDataFrame(CSVtoLIST('Cleaned_Housing_Data.csv'))\n",
    "df = pd.DataFrame(data=data)\n",
    "priceData = listToDataFrame(CSVtoListPrice('Cleaned_Housing_Data.csv'))\n",
    "priceDF = pd.DataFrame(data=priceData)"
   ]
  },
  {
   "cell_type": "code",
   "execution_count": 4,
   "metadata": {},
   "outputs": [],
   "source": [
    "chartData = priceDF[(priceDF['Infl_Price'] > 1) & (priceDF['Year'] < 2021)]\n",
    "lineData = chartData.groupby(['Neighborhood', 'Year']).size().reset_index()\n",
    "fruitBelt = lineData[(lineData['Neighborhood'] == 'Fruit Belt') & (lineData['Year'] < 2021)]\n",
    "fruitBelt = fruitBelt.rename(columns={0: 'Home'})"
   ]
  },
  {
   "cell_type": "code",
   "execution_count": 5,
   "metadata": {},
   "outputs": [
    {
     "name": "stderr",
     "output_type": "stream",
     "text": [
      "C:\\Users\\KevinBrito\\Anaconda3\\lib\\site-packages\\IPython\\core\\interactiveshell.py:3058: DtypeWarning: Columns (10,11) have mixed types. Specify dtype option on import or set low_memory=False.\n",
      "  interactivity=interactivity, compiler=compiler, result=result)\n"
     ]
    }
   ],
   "source": [
    "import pandas as pd\n",
    "import re\n",
    "import folium\n",
    "from dateutil.parser import parse\n",
    "\n",
    "\n",
    "housingDataFrame = pd.read_csv('Market_Data.csv')\n",
    "housingDataFrame = housingDataFrame.dropna()\n",
    "locationColumn = housingDataFrame['LOCATION_open_data']\n",
    "locationList = []\n",
    "lat = []\n",
    "lon = []\n",
    "for location in locationColumn:\n",
    "    locationList.insert(len(locationList), re.sub('[()]', '', location))\n",
    "\n",
    "for location in locationList:\n",
    "    combo = location.split(\", \")\n",
    "    lat.insert(len(lat), combo[0])\n",
    "    lon.insert(len(lon), combo[1])\n",
    "\n",
    "housingDataFrame['LAT'] = lat\n",
    "housingDataFrame['LON'] = lon\n",
    "\n",
    "housingDataDict = []\n",
    "for row in housingDataFrame.itertuples():\n",
    "    if row[3] != 'No Sales History' or row[7] != 'No Sales History' and row[3] != '$1':\n",
    "        housingDict = {'Date_Sold': row[2],\n",
    "                       'Price': row[3],\n",
    "                       'Total_Value': row[7],\n",
    "                       'Census_Tract': row[11],\n",
    "                       'Block_Group': row[12],\n",
    "                       'SBL': row[13],\n",
    "                       'Address': row[14],\n",
    "                       'Neighborhood': row[15],\n",
    "                       'Latitude': row[17],\n",
    "                       'Longitude': row[18],\n",
    "                       'Prior_Owner': row[6],\n",
    "                       'Year': 0\n",
    "                       }\n",
    "        housingDataDict.insert(len(housingDataDict), housingDict)\n",
    "\n",
    "for obj in housingDataDict:\n",
    "    obj['Price'] = re.sub('[$]', '', obj['Price'])\n",
    "    obj['Price'] = re.sub('[ ]', '', obj['Price'])\n",
    "    obj['Price'] = float(obj['Price'].replace(',', ''))\n",
    "    obj['Total_Value'] = re.sub('[$]', '', obj['Total_Value'])\n",
    "    obj['Total_Value'] = re.sub('[ ]', '', obj['Total_Value'])\n",
    "    obj['Total_Value'] = re.sub('[()]', '', obj['Total_Value'])\n",
    "    obj['Total_Value'] = float(obj['Total_Value'].replace(',', ''))\n",
    "\n",
    "for obj in housingDataDict:\n",
    "    date = str(parse(obj['Date_Sold']).date())\n",
    "    date = date[0:4]\n",
    "    obj['Year'] = int(date)\n",
    "\n",
    "housingDataDict = [i for i in housingDataDict if (i['Year'] <= 2020)]"
   ]
  },
  {
   "cell_type": "code",
   "execution_count": 40,
   "metadata": {
    "scrolled": false
   },
   "outputs": [
    {
     "name": "stderr",
     "output_type": "stream",
     "text": [
      "C:\\Users\\KevinBrito\\Anaconda3\\lib\\site-packages\\ipykernel_launcher.py:7: UserWarning: Boolean Series key will be reindexed to match DataFrame index.\n",
      "  import sys\n"
     ]
    },
    {
     "data": {
      "text/plain": [
       "180    13\n",
       "181    11\n",
       "182     6\n",
       "183     6\n",
       "184     7\n",
       "185     9\n",
       "186     3\n",
       "187     6\n",
       "188     6\n",
       "189     5\n",
       "190     6\n",
       "191     9\n",
       "192     6\n",
       "193     6\n",
       "194     8\n",
       "195     6\n",
       "196     8\n",
       "197     5\n",
       "Name: Foreclosures, dtype: int64"
      ]
     },
     "execution_count": 40,
     "metadata": {},
     "output_type": "execute_result"
    }
   ],
   "source": [
    "chartData\n",
    "\n",
    "priceData = chartData.groupby(['Neighborhood', 'Year']).Infl_Price.mean().reset_index()\n",
    "priceDataFB = priceData[(priceData['Neighborhood'] == 'Fruit Belt') & (priceData['Year'] < 2021)]\n",
    "priceDataBuff = chartData.groupby(['Year']).Infl_Price.mean().reset_index()\n",
    "\n",
    "foreclosures = chartData[(chartData['DT'] == 'D1D') & (df['Year'] <= 2020)]\n",
    "foreclosures = foreclosures.groupby(['Neighborhood', 'Year']).size().reset_index()\n",
    "foreclosures = foreclosures.rename(columns={0: 'Foreclosures'})\n",
    "foreclosures = foreclosures[(foreclosures['Neighborhood'] == 'Fruit Belt')]\n",
    "foreclosures[(foreclosures['Neighborhood'] == 'Fruit Belt') & (foreclosures['Year'] < 2021)].Foreclosures"
   ]
  },
  {
   "cell_type": "code",
   "execution_count": 7,
   "metadata": {},
   "outputs": [
    {
     "data": {
      "application/vnd.jupyter.widget-view+json": {
       "model_id": "b8081b8511ab4817b7f776c29cbe742e",
       "version_major": 2,
       "version_minor": 0
      },
      "text/plain": [
       "Figure(animation_duration=500, axes=[Axis(label='Year', num_ticks=10, scale=DateScale(max=datetime.datetime(20…"
      ]
     },
     "metadata": {},
     "output_type": "display_data"
    }
   ],
   "source": [
    "date_start = pd.datetime(1975, 12, 31)\n",
    "date_end = pd.datetime(2020, 12, 31)\n",
    "\n",
    "date_scale = DateScale(min=date_start, max=date_end)\n",
    "date_data = pd.date_range(start=date_start, end=date_end, freq='A', normalize=True)\n",
    "\n",
    "x_scale = LinearScale()\n",
    "\n",
    "lines = Lines(x=priceDataFB.Year, y=priceDataFB.Infl_Price, scales={'x': LinearScale(), 'y': x_scale})\n",
    "ax_x = Axis(label='Year', scale=date_scale, num_ticks=10, tick_format='%Y')\n",
    "ax_y = Axis(label='Price', scale=x_scale, orientation='vertical', side='left')\n",
    "averageHomePricePlot = Figure(axes=[ax_x, ax_y], title='Average Home Price in Fruit Belt', marks=[lines], animation_duration=500,\n",
    "                layout={'max_height': '250px', 'max_width': '700px'})\n",
    "\n",
    "averageHomePricePlot"
   ]
  },
  {
   "cell_type": "code",
   "execution_count": 43,
   "metadata": {},
   "outputs": [],
   "source": [
    "#Find a start date and end date\n",
    "date_start = pd.datetime(1994, 12, 31)\n",
    "date_end = pd.datetime(2011, 12, 31)\n",
    "\n",
    "#Find a scale for the data\n",
    "date_scale = DateScale(min=date_start, max=date_end)\n",
    "date_data = pd.date_range(start=date_start, end=date_end, freq='A', normalize=True)\n",
    "\n",
    "x_scale = LinearScale()\n",
    "data = Lines(x=foreclosures.Year, y=foreclosures.Foreclosures, scales={'x': LinearScale(), 'y': x_scale})\n",
    "foreclosureAx_x = Axis(label='Year', scale=date_scale, num_ticks=7, tick_format='%Y')\n",
    "foreclosureAx_y = Axis(label='Number of Foreclosures', scale=x_scale, orientation='vertical', side='left')\n",
    "foreclosurePlot = Figure(axes=[ax_x, ax_y], title='Number of Foreclosures in Fruit Belt', marks=[data], animation_duration=500,\n",
    "                layout={'max_height': '250px', 'max_width': '700px'})\n",
    "foreclosurePlot\n",
    "\n",
    "plotDict = {'Average Home Price': averageHomePricePlot, 'Foreclosure': foreclosurePlot}\n",
    "dataDict = {'Average Home Price': priceData, 'Foreclosure': foreclosures}\n",
    "\n",
    "def figure_change(plot, neighborhood_name, data, figure):\n",
    "    if figure == 'Average Home Price':\n",
    "        markY = Lines(x=priceDataFB.Year, y=data[(data['Neighborhood'] == neighborhood_name) & (data['Year'] < 2021)].Infl_Price, scales={'x': LinearScale(), 'y': x_scale})\n",
    "        plot.title = 'Average Home Price in ' + neighborhood_name\n",
    "        plot.marks = [markY]\n",
    "        plot.axes[1].label = 'Price'\n",
    "    elif figure == 'Foreclosure':\n",
    "        markY = Lines(x=foreclosures.Year, y=data[(data['Neighborhood'] == neighborhood_name) & (data['Year'] < 2021)].Foreclosures, scales={'x': LinearScale(), 'y': x_scale})\n",
    "        plot.title = 'Number of Foreclosures in ' + neighborhood_name\n",
    "        plot.marks = [markY]\n",
    "        plot.axes[1].label = 'Foreclosures'\n",
    "\n",
    "figure_change(plotDict['Average Home Price'], 'Fruit Belt', dataDict['Average Home Price'], 'Average Home Price')\n",
    "#change the figure THEN change the figure on display... figure_change allows us to change the figure that is already being displayed \n",
    "#but it does NOT allow us to choose WHICH figure to display.\n"
   ]
  },
  {
   "cell_type": "code",
   "execution_count": 12,
   "metadata": {},
   "outputs": [
    {
     "ename": "NameError",
     "evalue": "name 'figure' is not defined",
     "output_type": "error",
     "traceback": [
      "\u001b[1;31m---------------------------------------------------------------------------\u001b[0m",
      "\u001b[1;31mNameError\u001b[0m                                 Traceback (most recent call last)",
      "\u001b[1;32m<ipython-input-12-cf42dfc801f3>\u001b[0m in \u001b[0;36m<module>\u001b[1;34m\u001b[0m\n\u001b[0;32m      4\u001b[0m     \u001b[0mfigure\u001b[0m\u001b[1;33m.\u001b[0m\u001b[0mtitle\u001b[0m \u001b[1;33m=\u001b[0m \u001b[1;34m\"Average Home Price in \"\u001b[0m \u001b[1;33m+\u001b[0m \u001b[0mneighborhood_name\u001b[0m\u001b[1;33m\u001b[0m\u001b[1;33m\u001b[0m\u001b[0m\n\u001b[0;32m      5\u001b[0m \u001b[1;33m\u001b[0m\u001b[0m\n\u001b[1;32m----> 6\u001b[1;33m \u001b[0mupdate_figure\u001b[0m\u001b[1;33m(\u001b[0m\u001b[1;34m'Fruit Belt'\u001b[0m\u001b[1;33m,\u001b[0m \u001b[0mpriceData\u001b[0m\u001b[1;33m)\u001b[0m\u001b[1;33m\u001b[0m\u001b[1;33m\u001b[0m\u001b[0m\n\u001b[0m",
      "\u001b[1;32m<ipython-input-12-cf42dfc801f3>\u001b[0m in \u001b[0;36mupdate_figure\u001b[1;34m(neighborhood_name, data)\u001b[0m\n\u001b[0;32m      2\u001b[0m     \u001b[0mlines\u001b[0m\u001b[1;33m.\u001b[0m\u001b[0my\u001b[0m \u001b[1;33m=\u001b[0m \u001b[0mdata\u001b[0m\u001b[1;33m[\u001b[0m\u001b[1;33m(\u001b[0m\u001b[0mdata\u001b[0m\u001b[1;33m[\u001b[0m\u001b[1;34m'Neighborhood'\u001b[0m\u001b[1;33m]\u001b[0m \u001b[1;33m==\u001b[0m \u001b[0mneighborhood_name\u001b[0m\u001b[1;33m)\u001b[0m \u001b[1;33m&\u001b[0m \u001b[1;33m(\u001b[0m\u001b[0mdata\u001b[0m\u001b[1;33m[\u001b[0m\u001b[1;34m'Year'\u001b[0m\u001b[1;33m]\u001b[0m \u001b[1;33m<\u001b[0m \u001b[1;36m2021\u001b[0m\u001b[1;33m)\u001b[0m\u001b[1;33m]\u001b[0m\u001b[1;33m.\u001b[0m\u001b[0mInfl_Price\u001b[0m\u001b[1;33m\u001b[0m\u001b[1;33m\u001b[0m\u001b[0m\n\u001b[0;32m      3\u001b[0m     \u001b[0max_y\u001b[0m\u001b[1;33m.\u001b[0m\u001b[0mlabel\u001b[0m \u001b[1;33m=\u001b[0m \u001b[1;34m'Price'\u001b[0m\u001b[1;33m\u001b[0m\u001b[1;33m\u001b[0m\u001b[0m\n\u001b[1;32m----> 4\u001b[1;33m     \u001b[0mfigure\u001b[0m\u001b[1;33m.\u001b[0m\u001b[0mtitle\u001b[0m \u001b[1;33m=\u001b[0m \u001b[1;34m\"Average Home Price in \"\u001b[0m \u001b[1;33m+\u001b[0m \u001b[0mneighborhood_name\u001b[0m\u001b[1;33m\u001b[0m\u001b[1;33m\u001b[0m\u001b[0m\n\u001b[0m\u001b[0;32m      5\u001b[0m \u001b[1;33m\u001b[0m\u001b[0m\n\u001b[0;32m      6\u001b[0m \u001b[0mupdate_figure\u001b[0m\u001b[1;33m(\u001b[0m\u001b[1;34m'Fruit Belt'\u001b[0m\u001b[1;33m,\u001b[0m \u001b[0mpriceData\u001b[0m\u001b[1;33m)\u001b[0m\u001b[1;33m\u001b[0m\u001b[1;33m\u001b[0m\u001b[0m\n",
      "\u001b[1;31mNameError\u001b[0m: name 'figure' is not defined"
     ]
    }
   ],
   "source": [
    "def update_figure(neighborhood_name, data):\n",
    "    lines.y = data[(data['Neighborhood'] == neighborhood_name) & (data['Year'] < 2021)].Infl_Price\n",
    "    ax_y.label = 'Price'\n",
    "    figure.title = \"Average Home Price in \" + neighborhood_name\n",
    "\n",
    "update_figure('Fruit Belt', priceData)"
   ]
  },
  {
   "cell_type": "code",
   "execution_count": 13,
   "metadata": {
    "scrolled": false
   },
   "outputs": [
    {
     "data": {
      "application/vnd.jupyter.widget-view+json": {
       "model_id": "b60ded9b5f2c44d293ced67d663fcdc0",
       "version_major": 2,
       "version_minor": 0
      },
      "text/plain": [
       "Map(center=[42.88023, -78.878738], controls=(ZoomControl(options=['position', 'zoom_in_text', 'zoom_in_title',…"
      ]
     },
     "metadata": {},
     "output_type": "display_data"
    }
   ],
   "source": [
    "center = [42.880230, -78.878738]\n",
    "dynamicMap = Map(center=center, zoom=11)\n",
    "\n",
    "marker = Marker(icon=AwesomeIcon(name=\"check\", marker_color='green', icon_color='darkgreen'))\n",
    "\n",
    "search = SearchControl(position=\"topright\", \n",
    "                       url='https://nominatim.openstreetmap.org/search?format=json&q={s}', \n",
    "                       zoom=5,\n",
    "                       property_name='display_name',\n",
    "                       marker=marker\n",
    "                      )\n",
    "\n",
    "dynamicMap.add_control(search)\n",
    "\n",
    "widget_control1 = WidgetControl(widget=figure, position='bottomleft')\n",
    "\n",
    "dynamicMap.add_control(widget_control1)\n",
    "\n",
    "with open('Neighborhoods.geojson') as f:\n",
    "    neighborhoods = json.load(f)\n",
    "    \n",
    "geo = GeoJSON(data=neighborhoods, style={'fillColor': 'white', 'weight': 0.5}, hover_style={'fillColor': '#1f77b4'}, name='Neighborhoods')\n",
    "dynamicMap.add_layer(geo)\n",
    "\n",
    "\n",
    "control = LayersControl(position='bottomright')\n",
    "\n",
    "def on_hover(event, feature, **kwargs):\n",
    "    global neighborhood_name\n",
    "\n",
    "    neighborhood = feature['properties']['nbhdname']\n",
    "    update_figure(neighborhood, priceData)\n",
    "            \n",
    "def on_click(event, feature, **kwargs):\n",
    "    neighborhood = feature['properties']['nbhdname']\n",
    "    for index in range(0, len(housingDataDict)):\n",
    "        if housingDataDict[index]['Neighborhood'] == neighborhood:\n",
    "            circle = Circle()\n",
    "            circle.location = (housingDataDict[index]['Latitude'], housingDataDict[index]['Longitude'])\n",
    "            circle.radius = int(housingDataDict[index]['Price'] / 5000)\n",
    "            circle.color = \"green\"\n",
    "            dynamicMap.add_layer(circle)\n",
    "            \n",
    "            \n",
    "dynamicMap.add_control(FullScreenControl())\n",
    "dynamicMap.add_control(control)\n",
    "\n",
    "                \n",
    "geo.on_hover(on_hover)\n",
    "geo.on_click(on_click)\n",
    "dynamicMap"
   ]
  },
  {
   "cell_type": "code",
   "execution_count": 14,
   "metadata": {
    "scrolled": false
   },
   "outputs": [
    {
     "data": {
      "application/vnd.jupyter.widget-view+json": {
       "model_id": "6044d8fb836f4b7fb902eb89878f7d1b",
       "version_major": 2,
       "version_minor": 0
      },
      "text/plain": [
       "interactive(children=(Dropdown(description='Maps', options=('Clear', 'Basic Map'), value='Clear'), Output()), …"
      ]
     },
     "metadata": {},
     "output_type": "display_data"
    },
    {
     "data": {
      "application/vnd.jupyter.widget-view+json": {
       "model_id": "249e1cc686b94be89a10bfa4ca345eff",
       "version_major": 2,
       "version_minor": 0
      },
      "text/plain": [
       "interactive(children=(Dropdown(description='Figures', options=('Clear', 'Average Home Price', 'Average Number …"
      ]
     },
     "metadata": {},
     "output_type": "display_data"
    },
    {
     "data": {
      "application/vnd.jupyter.widget-view+json": {
       "model_id": "6f0fdafd40c14e58b8a8b5d8ed48188e",
       "version_major": 2,
       "version_minor": 0
      },
      "text/plain": [
       "Map(center=[42.88023, -78.878738], controls=(ZoomControl(options=['position', 'zoom_in_text', 'zoom_in_title',…"
      ]
     },
     "metadata": {},
     "output_type": "display_data"
    }
   ],
   "source": [
    "with open('Neighborhoods.geojson') as f:\n",
    "    neighborhoods = json.load(f)\n",
    "\n",
    "basicMap = Map(center = [42.880230, -78.878738], zoom = 11)\n",
    "background = basemaps.OpenStreetMap.Mapnik\n",
    "basicMap.add_control(FullScreenControl())\n",
    "layers = []\n",
    "plotWidget = WidgetControl(widget=plot, position='bottomleft', max_width=700, max_height=700)\n",
    "@interact\n",
    "def changeMap(Maps=['Clear','Basic Map']):\n",
    "    if Maps == 'Clear':\n",
    "        if layers != []:\n",
    "            basicMap.clear_layers()\n",
    "            layers.clear()\n",
    "        basicMap.add_layer(background)\n",
    "        layers.append('Background')\n",
    "    elif Maps == 'Basic Map':\n",
    "        if 'Geo' in layers:\n",
    "            basicMap.remove_layer(basicMapGeoData)\n",
    "        basicMapGeoData = GeoJSON(data=neighborhoods, style={'fillColor': 'white', 'weight': 0.5}, hover_style={'fillColor': '#1f77b4'}, name='Neighborhoods')\n",
    "        basicMap.add_layer(basicMapGeoData)\n",
    "        layers.append('Geo')\n",
    "        \n",
    "@interact\n",
    "def changeFigure(Figures=['Clear', 'Average Home Price', 'Foreclosure']):\n",
    "    if Figures != 'Clear':\n",
    "        if 'Geo' in layers:\n",
    "            basicMap.add_control(plotWidget)\n",
    "            \n",
    "            \n",
    "            \n",
    "basicMap"
   ]
  }
 ],
 "metadata": {
  "kernelspec": {
   "display_name": "Python 3",
   "language": "python",
   "name": "python3"
  },
  "language_info": {
   "codemirror_mode": {
    "name": "ipython",
    "version": 3
   },
   "file_extension": ".py",
   "mimetype": "text/x-python",
   "name": "python",
   "nbconvert_exporter": "python",
   "pygments_lexer": "ipython3",
   "version": "3.7.4"
  }
 },
 "nbformat": 4,
 "nbformat_minor": 2
}
